{
  "nbformat": 4,
  "nbformat_minor": 0,
  "metadata": {
    "colab": {
      "name": "DistortionAssesment_for_google_colab.ipynb",
      "provenance": [],
      "include_colab_link": true
    },
    "kernelspec": {
      "name": "python3",
      "display_name": "Python 3"
    }
  },
  "cells": [
    {
      "cell_type": "markdown",
      "metadata": {
        "id": "view-in-github",
        "colab_type": "text"
      },
      "source": [
        "<a href=\"https://colab.research.google.com/github/YosukeSugiura/EPI_DistortionAssesment/blob/master/DistortionAssesment_for_google_colab.ipynb\" target=\"_parent\"><img src=\"https://colab.research.google.com/assets/colab-badge.svg\" alt=\"Open In Colab\"/></a>"
      ]
    },
    {
      "cell_type": "markdown",
      "metadata": {
        "id": "-9znE2LaglVH",
        "colab_type": "text"
      },
      "source": [
        "# EPIの自動歪評価\n",
        "\n",
        "ソースコードをgoogle collaboratory 上で実行できます。\n",
        "\n",
        "メニューバーの ランタイム → `すべてのセルを実行` で、以下のコードを自動で順に実行します。\n",
        "\n",
        "1. まずモジュール`pydicom`をインストールします。"
      ]
    },
    {
      "cell_type": "code",
      "metadata": {
        "id": "EQG_2QjvY6-n",
        "colab_type": "code",
        "colab": {}
      },
      "source": [
        "!pip install pydicom"
      ],
      "execution_count": 0,
      "outputs": []
    },
    {
      "cell_type": "code",
      "metadata": {
        "id": "25vO5gGagV9U",
        "colab_type": "code",
        "colab": {}
      },
      "source": [
        ""
      ],
      "execution_count": 0,
      "outputs": []
    }
  ]
}